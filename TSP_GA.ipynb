{
 "cells": [
  {
   "cell_type": "code",
   "execution_count": 54,
   "metadata": {},
   "outputs": [],
   "source": [
    "import numpy as np\n"
   ]
  },
  {
   "cell_type": "code",
   "execution_count": 123,
   "metadata": {},
   "outputs": [],
   "source": [
    "class Agent:\n",
    "    genotype = 0\n",
    "    lenght = 0\n",
    "    fitness = 0\n",
    "    def eval(self,tsp_map):\n",
    "        dist = 0\n",
    "        for i in range(len(self.genotype)-1):\n",
    "            dist += tsp_map[self.genotype[i],self.genotype[i-1]]\n",
    "        self.fitness = dist\n",
    "    def __init__(self, lenght,tsp_map):\n",
    "        if type(lenght) == int :\n",
    "            self.lenght = lenght\n",
    "            self.genotype = np.random.permutation(lenght)\n",
    "            self.tsp_map = tsp_map\n",
    "        else :\n",
    "            self.genotype = lenght\n",
    "            self.lenght = len(lenght)\n",
    "        self.eval(tsp_map)\n",
    "            \n",
    "    def resetgeno(self):\n",
    "        self.genotype = np.random.permutation(lenght)\n",
    "\n",
    "    def swap(self):\n",
    "        a = int(np.floor(np.random.rand() * len(self.genotype)))\n",
    "        b = int(np.floor(np.random.rand() * len(self.genotype)))\n",
    "        temp = self.genotype[a]\n",
    "        self.genotype[a] = self.genotype[b]\n",
    "        self.genotype[b] = temp\n",
    "    def mutate(self, prob = 0.1,shuffle_times = 1):\n",
    "        if np.random.random() > prob:\n",
    "            for i in range(shuffle_times):\n",
    "                self.swap()\n",
    "        "
   ]
  },
  {
   "cell_type": "code",
   "execution_count": 124,
   "metadata": {},
   "outputs": [],
   "source": [
    "class Population:\n",
    "    members = []\n",
    "    lenght = 0\n",
    "    best = 0\n",
    "    def __init__(self, pop_len, ag_len,tsp_map):\n",
    "        self.lenght = pop_len\n",
    "        self.members = np.empty(pop_len,dtype=object)\n",
    "        self.tsp_map = tsp_map\n",
    "        for i in range(pop_len):\n",
    "            self.members[i] = Agent(ag_len,tsp_map)\n",
    "        # TODO: make members a priority queue\n",
    "        self.best = min(self.members,key=lambda x: x.fitness)\n",
    "\n",
    "    def one_child(self, agent1, agent2):\n",
    "        start = np.random.randint(0,len(agent1.genotype)-1)\n",
    "        end = np.random.randint(start+1,len(agent1.genotype))\n",
    "        crossover = list(agent1.genotype[start:end])\n",
    "        for i in agent2.genotype:\n",
    "            if i not in crossover:\n",
    "                crossover.append(i)\n",
    "        \n",
    "        return Agent(np.array(crossover),self.tsp_map)\n",
    "    \n",
    "    def crossover(self, agent1, agent2):\n",
    "        child1 = self.one_child(agent1, agent2)\n",
    "        child2 = self.one_child(agent2, agent1)\n",
    "        child1.mutate(0.1)\n",
    "        child2.mutate(0.1)\n",
    "        return (child1,child2)\n",
    "    \n",
    "    def evolve(self,times = 2):\n",
    "        for i in range (times):\n",
    "            self.members = sorted(self.members,key=lambda x:x.fitness)\n",
    "            p1,p2 = self.crossover(self.members[0],self.members[1])\n",
    "#             print(p1.fitness, self.members[-1].fitness)\n",
    "            self.members[-1] = p1\n",
    "            self.members[-2] = p2\n",
    "            self.best = self.members[0]\n",
    "            \n",
    "        \n",
    "        \n",
    "        \n",
    "            \n",
    "            "
   ]
  },
  {
   "cell_type": "code",
   "execution_count": 125,
   "metadata": {},
   "outputs": [],
   "source": [
    "def init_map(num):\n",
    "    tsp_map = np.zeros((num,num))\n",
    "    for i in range(num):\n",
    "        for j in range(i):\n",
    "            tsp_map[i][j] = np.floor(np.random.random() * 100)\n",
    "            tsp_map[j][i] = tsp_map[i][j]\n",
    "    return tsp_map"
   ]
  },
  {
   "cell_type": "code",
   "execution_count": 126,
   "metadata": {},
   "outputs": [],
   "source": [
    "tsp_map = init_map(50)"
   ]
  },
  {
   "cell_type": "code",
   "execution_count": 127,
   "metadata": {},
   "outputs": [
    {
     "data": {
      "text/plain": [
       "array([[ 0., 57., 98., ..., 60., 49., 61.],\n",
       "       [57.,  0., 20., ..., 47., 62., 97.],\n",
       "       [98., 20.,  0., ..., 65., 80., 62.],\n",
       "       ...,\n",
       "       [60., 47., 65., ...,  0.,  4., 53.],\n",
       "       [49., 62., 80., ...,  4.,  0.,  7.],\n",
       "       [61., 97., 62., ..., 53.,  7.,  0.]])"
      ]
     },
     "execution_count": 127,
     "metadata": {},
     "output_type": "execute_result"
    }
   ],
   "source": [
    "tsp_map"
   ]
  },
  {
   "cell_type": "code",
   "execution_count": null,
   "metadata": {},
   "outputs": [],
   "source": []
  },
  {
   "cell_type": "code",
   "execution_count": 128,
   "metadata": {},
   "outputs": [
    {
     "name": "stdout",
     "output_type": "stream",
     "text": [
      "[18 45 10 36  3 11 16 14  5  0  8 27 22  6 26 17 48 28 15  4 39  7 30 33\n",
      " 44 32 41 42 43 21 31 37 40 13  1 29 19 38 35 24 49  9 34 20  2 47 12 25\n",
      " 46 23]\n"
     ]
    }
   ],
   "source": [
    "# agent = Agent(10,tsp_map)\n",
    "pop = Population(100,50,tsp_map)\n",
    "print(pop.best.genotype)"
   ]
  },
  {
   "cell_type": "code",
   "execution_count": 129,
   "metadata": {},
   "outputs": [],
   "source": [
    "to_plot = []"
   ]
  },
  {
   "cell_type": "code",
   "execution_count": 130,
   "metadata": {},
   "outputs": [],
   "source": [
    "for i in range(10000):\n",
    "    pop.evolve()\n",
    "    to_plot.append(pop.best.fitness)\n"
   ]
  },
  {
   "cell_type": "code",
   "execution_count": 131,
   "metadata": {},
   "outputs": [
    {
     "name": "stdout",
     "output_type": "stream",
     "text": [
      "[13  5 31 43 21 47 20  1 41  3 30  7  4 39 46 18 40 36 49 28 45 32 25 35\n",
      " 11 42  9 12 24 14 10  8 27 33 17 37 48 44  6  2 34 26 23 38 15 29  0 22\n",
      " 19 16] 757.0\n"
     ]
    }
   ],
   "source": [
    "#The Best path and its cost : \n",
    "print(pop.best.genotype,pop.best.fitness)"
   ]
  },
  {
   "cell_type": "code",
   "execution_count": 132,
   "metadata": {},
   "outputs": [],
   "source": [
    "import matplotlib.pyplot as plt"
   ]
  },
  {
   "cell_type": "code",
   "execution_count": 133,
   "metadata": {},
   "outputs": [
    {
     "data": {
      "text/plain": [
       "[<matplotlib.lines.Line2D at 0x241f023e390>]"
      ]
     },
     "execution_count": 133,
     "metadata": {},
     "output_type": "execute_result"
    },
    {
     "data": {
      "image/png": "[encoded data removed]",
      "text/plain": [
       "<Figure size 432x288 with 1 Axes>"
      ]
     },
     "metadata": {
      "needs_background": "light"
     },
     "output_type": "display_data"
    }
   ],
   "source": [
    "plt.plot(to_plot)"
   ]
  },
  {
   "cell_type": "code",
   "execution_count": 76,
   "metadata": {},
   "outputs": [],
   "source": [
    "x = np.random.permutation(10)"
   ]
  }
 ],
 "metadata": {
  "kernelspec": {
   "display_name": "Python 3",
   "language": "python",
   "name": "python3"
  },
  "language_info": {
   "codemirror_mode": {
    "name": "ipython",
    "version": 3
   },
   "file_extension": ".py",
   "mimetype": "text/x-python",
   "name": "python",
   "nbconvert_exporter": "python",
   "pygments_lexer": "ipython3",
   "version": "3.7.2"
  }
 },
 "nbformat": 4,
 "nbformat_minor": 4
}
