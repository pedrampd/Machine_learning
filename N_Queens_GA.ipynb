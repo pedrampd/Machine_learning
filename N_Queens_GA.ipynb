{
 "cells": [
  {
   "cell_type": "code",
   "execution_count": 1,
   "metadata": {},
   "outputs": [],
   "source": [
    "import numpy as np\n",
    "import matplotlib.pyplot as plt"
   ]
  },
  {
   "cell_type": "code",
   "execution_count": 70,
   "metadata": {},
   "outputs": [],
   "source": [
    "class Agent:\n",
    "    genotype = 0\n",
    "    N = 0\n",
    "    fitness = 0\n",
    "    \n",
    "    def eval(self):\n",
    "        positive_diag = []\n",
    "        negative_diag = []\n",
    "        for i in range(self.N):\n",
    "            positive_diag.append(self.genotype[i] + i)\n",
    "            negative_diag.append(self.genotype[i] - i)\n",
    "        positive_diag = set(positive_diag)\n",
    "        negative_diag = set(negative_diag)\n",
    "        self.fitness = 2 * self.N - len(positive_diag) - len(negative_diag)\n",
    "            \n",
    "           \n",
    "    def __init__(self, N):\n",
    "        if type(N) == int:\n",
    "            self.genotype = np.random.permutation(N)\n",
    "            self.N = N\n",
    "            self.eval()\n",
    "        else :\n",
    "            self.genotype = N\n",
    "            self.N = len(N)\n",
    "            self.eval()\n",
    "            \n",
    "            \n",
    "    def resetgeno(self):\n",
    "        self.genotype = np.random.permutation(lenght)\n",
    "\n",
    "        \n",
    "    def swap(self):\n",
    "        a = int(np.floor(np.random.rand() * len(self.genotype)))\n",
    "        b = int(np.floor(np.random.rand() * len(self.genotype)))\n",
    "        temp = self.genotype[a]\n",
    "        self.genotype[a] = self.genotype[b]\n",
    "        self.genotype[b] = temp\n",
    "        \n",
    "        \n",
    "    def mutate(self, prob = 0.1,shuffle_times = 1):\n",
    "        if np.random.random() > prob:\n",
    "            for i in range(shuffle_times):\n",
    "                self.swap()\n",
    "        "
   ]
  },
  {
   "cell_type": "code",
   "execution_count": 290,
   "metadata": {},
   "outputs": [],
   "source": [
    "class Population:\n",
    "    members = []\n",
    "    lenght = 0\n",
    "    best = 0\n",
    "    def __init__(self, pop_len, ag_len):\n",
    "        self.lenght = pop_len\n",
    "        self.members = np.empty(pop_len,dtype=object)\n",
    "        for i in range(pop_len):\n",
    "            self.members[i] = Agent(ag_len)\n",
    "        # TODO: make members a priority queue\n",
    "        \n",
    "        self.best = min(self.members,key=lambda x: x.fitness)\n",
    "\n",
    "    def one_child(self, agent1, agent2):\n",
    "        start = np.random.randint(0,len(agent1.genotype)-1)\n",
    "        end = np.random.randint(start+1,len(agent1.genotype))\n",
    "        crossover = list(agent1.genotype[start:end])\n",
    "        for i in agent2.genotype:\n",
    "            if i not in crossover:\n",
    "                crossover.append(i)\n",
    "        \n",
    "        return Agent(np.array(crossover))\n",
    "    \n",
    "    def crossover(self, agent1, agent2):\n",
    "        child1 = self.one_child(agent1, agent2)\n",
    "        child2 = self.one_child(agent2, agent1)\n",
    "        child1.mutate(0.1)\n",
    "        child2.mutate(0.1)\n",
    "        return (child1,child2)\n",
    "    \n",
    "    def choose_parent(self):\n",
    "        parents_prob = []\n",
    "        helper = [] \n",
    "        total_fitness = 0\n",
    "        N = self.members[0].N\n",
    "        worst = max(self.members,key=lambda x: x.fitness).fitness \n",
    "        for i in self.members:\n",
    "            total_fitness += abs(worst - i.fitness)\n",
    "            helper.append(abs(worst - i.fitness))\n",
    "        for i in helper:\n",
    "            parents_prob.append(i/ total_fitness)\n",
    "        return parents_prob\n",
    "    \n",
    "    def evolve(self):\n",
    "        self.best = min(self.members,key=lambda x: x.fitness)\n",
    "        parents_prob = self.choose_parent()\n",
    "#         print(parents_prob)\n",
    "        for i in range(0,self.lenght - 2 ,2):\n",
    "#             print(self.lenght,i,parents[i], parents[i + 1])\n",
    "            parent1,parent2 = np.random.choice(self.lenght,p=parents_prob),np.random.choice(self.lenght,p=parents_prob)\n",
    "            child1,child2 = self.crossover(self.members[parent1],self.members[parent2]) \n",
    "            self.members[parent1] = child1\n",
    "            self.members[parent2] = child2\n",
    "        \n",
    "        \n",
    "            \n",
    "            \n",
    "        \n",
    "        \n",
    "        \n",
    "            \n",
    "            "
   ]
  },
  {
   "cell_type": "code",
   "execution_count": 327,
   "metadata": {},
   "outputs": [],
   "source": [
    "pop = Population(100,15)\n",
    "to_plot = []\n"
   ]
  },
  {
   "cell_type": "code",
   "execution_count": 328,
   "metadata": {},
   "outputs": [],
   "source": [
    "while pop.best.fitness > 0:\n",
    "    pop.evolve()\n",
    "    to_plot.append(pop.best.fitness)"
   ]
  },
  {
   "cell_type": "code",
   "execution_count": 329,
   "metadata": {},
   "outputs": [
    {
     "data": {
      "text/plain": [
       "[<matplotlib.lines.Line2D at 0x26b3a804710>]"
      ]
     },
     "execution_count": 329,
     "metadata": {},
     "output_type": "execute_result"
    },
    {
     "data": {
      "image/png": "[encoded data removed]",
      "text/plain": [
       "<Figure size 432x288 with 1 Axes>"
      ]
     },
     "metadata": {
      "needs_background": "light"
     },
     "output_type": "display_data"
    }
   ],
   "source": [
    "plt.plot(to_plot)"
   ]
  },
  {
   "cell_type": "code",
   "execution_count": 345,
   "metadata": {},
   "outputs": [],
   "source": [
    "pop = Population(100,10)\n",
    "to_plot = []\n"
   ]
  },
  {
   "cell_type": "code",
   "execution_count": 346,
   "metadata": {},
   "outputs": [],
   "source": [
    "while pop.best.fitness > 0:\n",
    "    pop.evolve()\n",
    "    to_plot.append(pop.best.fitness)"
   ]
  },
  {
   "cell_type": "code",
   "execution_count": 347,
   "metadata": {},
   "outputs": [
    {
     "data": {
      "text/plain": [
       "[<matplotlib.lines.Line2D at 0x26b4018f198>]"
      ]
     },
     "execution_count": 347,
     "metadata": {},
     "output_type": "execute_result"
    },
    {
     "data": {
      "image/png": "[encoded data removed]",
      "text/plain": [
       "<Figure size 432x288 with 1 Axes>"
      ]
     },
     "metadata": {
      "needs_background": "light"
     },
     "output_type": "display_data"
    }
   ],
   "source": [
    "plt.plot(to_plot)"
   ]
  },
  {
   "cell_type": "code",
   "execution_count": null,
   "metadata": {},
   "outputs": [],
   "source": []
  }
 ],
 "metadata": {
  "kernelspec": {
   "display_name": "Python 3",
   "language": "python",
   "name": "python3"
  },
  "language_info": {
   "codemirror_mode": {
    "name": "ipython",
    "version": 3
   },
   "file_extension": ".py",
   "mimetype": "text/x-python",
   "name": "python",
   "nbconvert_exporter": "python",
   "pygments_lexer": "ipython3",
   "version": "3.7.2"
  }
 },
 "nbformat": 4,
 "nbformat_minor": 4
}
